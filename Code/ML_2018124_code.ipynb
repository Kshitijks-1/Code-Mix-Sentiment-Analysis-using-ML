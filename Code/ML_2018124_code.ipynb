{
  "nbformat": 4,
  "nbformat_minor": 0,
  "metadata": {
    "kernelspec": {
      "display_name": "Python 3",
      "language": "python",
      "name": "python3"
    },
    "language_info": {
      "codemirror_mode": {
        "name": "ipython",
        "version": 3
      },
      "file_extension": ".py",
      "mimetype": "text/x-python",
      "name": "python",
      "nbconvert_exporter": "python",
      "pygments_lexer": "ipython3",
      "version": "3.6.9"
    },
    "colab": {
      "name": "ML_2018124_code.ipynb",
      "provenance": [],
      "collapsed_sections": []
    },
    "accelerator": "GPU"
  },
  "cells": [
    {
      "cell_type": "code",
      "metadata": {
        "colab": {
          "base_uri": "https://localhost:8080/"
        },
        "id": "K_4fS4s2JBHf",
        "outputId": "0cd7ed06-a3a7-4126-8a3b-a63bc8f72d30"
      },
      "source": [
        "from google.colab import drive\n",
        "drive.mount('/content/drive')"
      ],
      "execution_count": 1,
      "outputs": [
        {
          "output_type": "stream",
          "text": [
            "Mounted at /content/drive\n"
          ],
          "name": "stdout"
        }
      ]
    },
    {
      "cell_type": "code",
      "metadata": {
        "colab": {
          "base_uri": "https://localhost:8080/"
        },
        "id": "xt2XsgfeTtBq",
        "outputId": "72372eff-97e1-4138-8520-e9b9c2f2ef96"
      },
      "source": [
        "!pip install wordcloud"
      ],
      "execution_count": 2,
      "outputs": [
        {
          "output_type": "stream",
          "text": [
            "Requirement already satisfied: wordcloud in /usr/local/lib/python3.7/dist-packages (1.5.0)\n",
            "Requirement already satisfied: numpy>=1.6.1 in /usr/local/lib/python3.7/dist-packages (from wordcloud) (1.19.5)\n",
            "Requirement already satisfied: pillow in /usr/local/lib/python3.7/dist-packages (from wordcloud) (7.1.2)\n"
          ],
          "name": "stdout"
        }
      ]
    },
    {
      "cell_type": "code",
      "metadata": {
        "colab": {
          "base_uri": "https://localhost:8080/"
        },
        "id": "OQioR-DBN3ET",
        "outputId": "7e2c7279-a868-4df5-8521-2d15cc23672a"
      },
      "source": [
        "!pip install googletrans==3.1.0a0"
      ],
      "execution_count": 3,
      "outputs": [
        {
          "output_type": "stream",
          "text": [
            "Collecting googletrans==3.1.0a0\n",
            "  Downloading https://files.pythonhosted.org/packages/19/3d/4e3a1609bf52f2f7b00436cc751eb977e27040665dde2bd57e7152989672/googletrans-3.1.0a0.tar.gz\n",
            "Collecting httpx==0.13.3\n",
            "\u001b[?25l  Downloading https://files.pythonhosted.org/packages/54/b4/698b284c6aed4d7c2b4fe3ba5df1fcf6093612423797e76fbb24890dd22f/httpx-0.13.3-py3-none-any.whl (55kB)\n",
            "\u001b[K     |████████████████████████████████| 61kB 5.1MB/s \n",
            "\u001b[?25hCollecting rfc3986<2,>=1.3\n",
            "  Downloading https://files.pythonhosted.org/packages/78/be/7b8b99fd74ff5684225f50dd0e865393d2265656ef3b4ba9eaaaffe622b8/rfc3986-1.4.0-py2.py3-none-any.whl\n",
            "Requirement already satisfied: certifi in /usr/local/lib/python3.7/dist-packages (from httpx==0.13.3->googletrans==3.1.0a0) (2020.12.5)\n",
            "Requirement already satisfied: chardet==3.* in /usr/local/lib/python3.7/dist-packages (from httpx==0.13.3->googletrans==3.1.0a0) (3.0.4)\n",
            "Collecting sniffio\n",
            "  Downloading https://files.pythonhosted.org/packages/52/b0/7b2e028b63d092804b6794595871f936aafa5e9322dcaaad50ebf67445b3/sniffio-1.2.0-py3-none-any.whl\n",
            "Collecting hstspreload\n",
            "\u001b[?25l  Downloading https://files.pythonhosted.org/packages/dd/50/606213e12fb49c5eb667df0936223dcaf461f94e215ea60244b2b1e9b039/hstspreload-2020.12.22-py3-none-any.whl (994kB)\n",
            "\u001b[K     |████████████████████████████████| 1.0MB 15.6MB/s \n",
            "\u001b[?25hCollecting httpcore==0.9.*\n",
            "\u001b[?25l  Downloading https://files.pythonhosted.org/packages/dd/d5/e4ff9318693ac6101a2095e580908b591838c6f33df8d3ee8dd953ba96a8/httpcore-0.9.1-py3-none-any.whl (42kB)\n",
            "\u001b[K     |████████████████████████████████| 51kB 6.0MB/s \n",
            "\u001b[?25hRequirement already satisfied: idna==2.* in /usr/local/lib/python3.7/dist-packages (from httpx==0.13.3->googletrans==3.1.0a0) (2.10)\n",
            "Collecting h11<0.10,>=0.8\n",
            "\u001b[?25l  Downloading https://files.pythonhosted.org/packages/5a/fd/3dad730b0f95e78aeeb742f96fa7bbecbdd56a58e405d3da440d5bfb90c6/h11-0.9.0-py2.py3-none-any.whl (53kB)\n",
            "\u001b[K     |████████████████████████████████| 61kB 6.9MB/s \n",
            "\u001b[?25hCollecting h2==3.*\n",
            "\u001b[?25l  Downloading https://files.pythonhosted.org/packages/25/de/da019bcc539eeab02f6d45836f23858ac467f584bfec7a526ef200242afe/h2-3.2.0-py2.py3-none-any.whl (65kB)\n",
            "\u001b[K     |████████████████████████████████| 71kB 8.6MB/s \n",
            "\u001b[?25hCollecting hyperframe<6,>=5.2.0\n",
            "  Downloading https://files.pythonhosted.org/packages/19/0c/bf88182bcb5dce3094e2f3e4fe20db28a9928cb7bd5b08024030e4b140db/hyperframe-5.2.0-py2.py3-none-any.whl\n",
            "Collecting hpack<4,>=3.0\n",
            "  Downloading https://files.pythonhosted.org/packages/8a/cc/e53517f4a1e13f74776ca93271caef378dadec14d71c61c949d759d3db69/hpack-3.0.0-py2.py3-none-any.whl\n",
            "Building wheels for collected packages: googletrans\n",
            "  Building wheel for googletrans (setup.py) ... \u001b[?25l\u001b[?25hdone\n",
            "  Created wheel for googletrans: filename=googletrans-3.1.0a0-cp37-none-any.whl size=16368 sha256=3c5446a72797a5f53471fedcaf88d954e5737fd0ccd23b3f0b09f55949276f1c\n",
            "  Stored in directory: /root/.cache/pip/wheels/27/7a/a0/aff3babbb775549ce6813cb8fa7ff3c0848c4dc62c20f8fdac\n",
            "Successfully built googletrans\n",
            "Installing collected packages: rfc3986, sniffio, hstspreload, h11, hyperframe, hpack, h2, httpcore, httpx, googletrans\n",
            "Successfully installed googletrans-3.1.0a0 h11-0.9.0 h2-3.2.0 hpack-3.0.0 hstspreload-2020.12.22 httpcore-0.9.1 httpx-0.13.3 hyperframe-5.2.0 rfc3986-1.4.0 sniffio-1.2.0\n"
          ],
          "name": "stdout"
        }
      ]
    },
    {
      "cell_type": "code",
      "metadata": {
        "colab": {
          "base_uri": "https://localhost:8080/"
        },
        "id": "Wkx46o5nCCqS",
        "outputId": "7342fbe1-401e-4959-ba0d-cb3b7dc99957"
      },
      "source": [
        "!pip install pyspellchecker"
      ],
      "execution_count": 4,
      "outputs": [
        {
          "output_type": "stream",
          "text": [
            "Collecting pyspellchecker\n",
            "\u001b[?25l  Downloading https://files.pythonhosted.org/packages/64/c7/435f49c0ac6bec031d1aba4daf94dc21dc08a9db329692cdb77faac51cea/pyspellchecker-0.6.2-py3-none-any.whl (2.7MB)\n",
            "\u001b[K     |████████████████████████████████| 2.7MB 8.0MB/s \n",
            "\u001b[?25hInstalling collected packages: pyspellchecker\n",
            "Successfully installed pyspellchecker-0.6.2\n"
          ],
          "name": "stdout"
        }
      ]
    },
    {
      "cell_type": "code",
      "metadata": {
        "colab": {
          "base_uri": "https://localhost:8080/"
        },
        "id": "Qxa1o0DUG5Nb",
        "outputId": "a291b242-494a-4d17-859c-afdacad41247"
      },
      "source": [
        "import nltk\n",
        "nltk.download(\"popular\")"
      ],
      "execution_count": 5,
      "outputs": [
        {
          "output_type": "stream",
          "text": [
            "[nltk_data] Downloading collection 'popular'\n",
            "[nltk_data]    | \n",
            "[nltk_data]    | Downloading package cmudict to /root/nltk_data...\n",
            "[nltk_data]    |   Unzipping corpora/cmudict.zip.\n",
            "[nltk_data]    | Downloading package gazetteers to /root/nltk_data...\n",
            "[nltk_data]    |   Unzipping corpora/gazetteers.zip.\n",
            "[nltk_data]    | Downloading package genesis to /root/nltk_data...\n",
            "[nltk_data]    |   Unzipping corpora/genesis.zip.\n",
            "[nltk_data]    | Downloading package gutenberg to /root/nltk_data...\n",
            "[nltk_data]    |   Unzipping corpora/gutenberg.zip.\n",
            "[nltk_data]    | Downloading package inaugural to /root/nltk_data...\n",
            "[nltk_data]    |   Unzipping corpora/inaugural.zip.\n",
            "[nltk_data]    | Downloading package movie_reviews to\n",
            "[nltk_data]    |     /root/nltk_data...\n",
            "[nltk_data]    |   Unzipping corpora/movie_reviews.zip.\n",
            "[nltk_data]    | Downloading package names to /root/nltk_data...\n",
            "[nltk_data]    |   Unzipping corpora/names.zip.\n",
            "[nltk_data]    | Downloading package shakespeare to /root/nltk_data...\n",
            "[nltk_data]    |   Unzipping corpora/shakespeare.zip.\n",
            "[nltk_data]    | Downloading package stopwords to /root/nltk_data...\n",
            "[nltk_data]    |   Unzipping corpora/stopwords.zip.\n",
            "[nltk_data]    | Downloading package treebank to /root/nltk_data...\n",
            "[nltk_data]    |   Unzipping corpora/treebank.zip.\n",
            "[nltk_data]    | Downloading package twitter_samples to\n",
            "[nltk_data]    |     /root/nltk_data...\n",
            "[nltk_data]    |   Unzipping corpora/twitter_samples.zip.\n",
            "[nltk_data]    | Downloading package omw to /root/nltk_data...\n",
            "[nltk_data]    |   Unzipping corpora/omw.zip.\n",
            "[nltk_data]    | Downloading package wordnet to /root/nltk_data...\n",
            "[nltk_data]    |   Unzipping corpora/wordnet.zip.\n",
            "[nltk_data]    | Downloading package wordnet_ic to /root/nltk_data...\n",
            "[nltk_data]    |   Unzipping corpora/wordnet_ic.zip.\n",
            "[nltk_data]    | Downloading package words to /root/nltk_data...\n",
            "[nltk_data]    |   Unzipping corpora/words.zip.\n",
            "[nltk_data]    | Downloading package maxent_ne_chunker to\n",
            "[nltk_data]    |     /root/nltk_data...\n",
            "[nltk_data]    |   Unzipping chunkers/maxent_ne_chunker.zip.\n",
            "[nltk_data]    | Downloading package punkt to /root/nltk_data...\n",
            "[nltk_data]    |   Unzipping tokenizers/punkt.zip.\n",
            "[nltk_data]    | Downloading package snowball_data to\n",
            "[nltk_data]    |     /root/nltk_data...\n",
            "[nltk_data]    | Downloading package averaged_perceptron_tagger to\n",
            "[nltk_data]    |     /root/nltk_data...\n",
            "[nltk_data]    |   Unzipping taggers/averaged_perceptron_tagger.zip.\n",
            "[nltk_data]    | \n",
            "[nltk_data]  Done downloading collection popular\n"
          ],
          "name": "stdout"
        },
        {
          "output_type": "execute_result",
          "data": {
            "text/plain": [
              "True"
            ]
          },
          "metadata": {
            "tags": []
          },
          "execution_count": 5
        }
      ]
    },
    {
      "cell_type": "code",
      "metadata": {
        "colab": {
          "base_uri": "https://localhost:8080/"
        },
        "id": "PeQg3ueqCXqt",
        "outputId": "ea2e4e49-57a7-4cde-8ec7-f4368495e216"
      },
      "source": [
        "!pip install emoji"
      ],
      "execution_count": 6,
      "outputs": [
        {
          "output_type": "stream",
          "text": [
            "Collecting emoji\n",
            "\u001b[?25l  Downloading https://files.pythonhosted.org/packages/24/fa/b3368f41b95a286f8d300e323449ab4e86b85334c2e0b477e94422b8ed0f/emoji-1.2.0-py3-none-any.whl (131kB)\n",
            "\r\u001b[K     |██▌                             | 10kB 21.3MB/s eta 0:00:01\r\u001b[K     |█████                           | 20kB 17.0MB/s eta 0:00:01\r\u001b[K     |███████▌                        | 30kB 14.5MB/s eta 0:00:01\r\u001b[K     |██████████                      | 40kB 13.8MB/s eta 0:00:01\r\u001b[K     |████████████▌                   | 51kB 7.3MB/s eta 0:00:01\r\u001b[K     |███████████████                 | 61kB 7.9MB/s eta 0:00:01\r\u001b[K     |█████████████████▌              | 71kB 9.0MB/s eta 0:00:01\r\u001b[K     |████████████████████            | 81kB 9.3MB/s eta 0:00:01\r\u001b[K     |██████████████████████▌         | 92kB 9.3MB/s eta 0:00:01\r\u001b[K     |█████████████████████████       | 102kB 8.1MB/s eta 0:00:01\r\u001b[K     |███████████████████████████▌    | 112kB 8.1MB/s eta 0:00:01\r\u001b[K     |██████████████████████████████  | 122kB 8.1MB/s eta 0:00:01\r\u001b[K     |████████████████████████████████| 133kB 8.1MB/s \n",
            "\u001b[?25hInstalling collected packages: emoji\n",
            "Successfully installed emoji-1.2.0\n"
          ],
          "name": "stdout"
        }
      ]
    },
    {
      "cell_type": "code",
      "metadata": {
        "scrolled": true,
        "id": "dydL2QUvByLN"
      },
      "source": [
        "\n",
        "from nltk.sentiment.vader import SentimentIntensityAnalyzer\n",
        "from bs4 import BeautifulSoup\n",
        "from spellchecker import SpellChecker\n",
        "import emoji\n",
        "import pandas as pd\n",
        "from googletrans import Translator\n",
        "from sklearn import datasets, linear_model\n",
        "from sklearn.model_selection import train_test_split\n",
        "from nltk.classify.scikitlearn import SklearnClassifier\n",
        "from sklearn.linear_model import SGDClassifier\n",
        "from sklearn.metrics import classification_report\n",
        "import re,string\n",
        "from matplotlib import pyplot as plt\n",
        "\n",
        "##\n",
        "from nltk.classify import  MaxentClassifier\n",
        "from sklearn.metrics import f1_score, accuracy_score\n",
        "from sklearn.metrics import f1_score\n",
        "\n",
        "#pyspellchecker\n",
        "spell = SpellChecker()\n"
      ],
      "execution_count": 8,
      "outputs": []
    },
    {
      "cell_type": "code",
      "metadata": {
        "id": "swfl4595T4cD"
      },
      "source": [
        "import nltk\n",
        "from nltk import word_tokenize\n",
        "from sklearn.feature_extraction.text import CountVectorizer\n",
        "from sklearn.feature_extraction.text import TfidfVectorizer\n",
        "from collections import Counter\n",
        "from wordcloud import WordCloud\n",
        "from nltk.corpus import wordnet\n",
        "from nltk.stem.wordnet import WordNetLemmatizer\n",
        "from nltk.tag import pos_tag \n",
        "from nltk.tokenize import word_tokenize\n",
        "from nltk.tokenize import sent_tokenize\n",
        "from textblob import TextBlob\n",
        "from nltk.corpus import stopwords "
      ],
      "execution_count": 9,
      "outputs": []
    },
    {
      "cell_type": "code",
      "metadata": {
        "id": "imTOjSEACOqy"
      },
      "source": [
        ""
      ],
      "execution_count": null,
      "outputs": []
    },
    {
      "cell_type": "code",
      "metadata": {
        "id": "RW_9mAcQByLe",
        "colab": {
          "base_uri": "https://localhost:8080/",
          "height": 419
        },
        "outputId": "63b8633b-f4e2-4ce9-e36b-7cfae256c36c"
      },
      "source": [
        "\n",
        "# data_lac is 1 lac randome sample out of 1.6 million dataset used here\n",
        "\n",
        "data = pd.read_csv(\"/content/drive/MyDrive/data_lac.csv\",skip_blank_lines=True,encoding = \"latin\") \n",
        "\n",
        "data"
      ],
      "execution_count": 11,
      "outputs": [
        {
          "output_type": "execute_result",
          "data": {
            "text/html": [
              "<div>\n",
              "<style scoped>\n",
              "    .dataframe tbody tr th:only-of-type {\n",
              "        vertical-align: middle;\n",
              "    }\n",
              "\n",
              "    .dataframe tbody tr th {\n",
              "        vertical-align: top;\n",
              "    }\n",
              "\n",
              "    .dataframe thead th {\n",
              "        text-align: right;\n",
              "    }\n",
              "</style>\n",
              "<table border=\"1\" class=\"dataframe\">\n",
              "  <thead>\n",
              "    <tr style=\"text-align: right;\">\n",
              "      <th></th>\n",
              "      <th>label</th>\n",
              "      <th>Tweet</th>\n",
              "      <th>cleaned_tweets</th>\n",
              "    </tr>\n",
              "  </thead>\n",
              "  <tbody>\n",
              "    <tr>\n",
              "      <th>0</th>\n",
              "      <td>positive</td>\n",
              "      <td>21st was a successs</td>\n",
              "      <td>just success</td>\n",
              "    </tr>\n",
              "    <tr>\n",
              "      <th>1</th>\n",
              "      <td>positive</td>\n",
              "      <td>dad said YES regarding my Cebu trip!  i wonder...</td>\n",
              "      <td>dad say yes regard cell trip  wonder serious...</td>\n",
              "    </tr>\n",
              "    <tr>\n",
              "      <th>2</th>\n",
              "      <td>negative</td>\n",
              "      <td>@nickjonas Ok so you Joe and Kevin do this so ...</td>\n",
              "      <td>okay joe kevin often always send question mi...</td>\n",
              "    </tr>\n",
              "    <tr>\n",
              "      <th>3</th>\n",
              "      <td>negative</td>\n",
              "      <td>DDTycoon isn't like the other dash games.  It'...</td>\n",
              "      <td>tycoon dislike dash game  bit rubbish</td>\n",
              "    </tr>\n",
              "    <tr>\n",
              "      <th>4</th>\n",
              "      <td>positive</td>\n",
              "      <td>@MamaCitaa_ awww poor thing...lol oh okay hope...</td>\n",
              "      <td>amazement poor thing 'll oh okay hopefully d...</td>\n",
              "    </tr>\n",
              "    <tr>\n",
              "      <th>...</th>\n",
              "      <td>...</td>\n",
              "      <td>...</td>\n",
              "      <td>...</td>\n",
              "    </tr>\n",
              "    <tr>\n",
              "      <th>99995</th>\n",
              "      <td>negative</td>\n",
              "      <td>.@ShaddyBabeBiTch she texted me &amp;amp; i spoke ...</td>\n",
              "      <td>texted speak mom  obviously pain stable  un...</td>\n",
              "    </tr>\n",
              "    <tr>\n",
              "      <th>99996</th>\n",
              "      <td>positive</td>\n",
              "      <td>Two hours in - It's not helping that the glori...</td>\n",
              "      <td>two hour not help glorious weather awaken li...</td>\n",
              "    </tr>\n",
              "    <tr>\n",
              "      <th>99997</th>\n",
              "      <td>negative</td>\n",
              "      <td>@manaloloandlola i knowww! HAHAH, yes, but i c...</td>\n",
              "      <td>knoww  haha yes suffer guy</td>\n",
              "    </tr>\n",
              "    <tr>\n",
              "      <th>99998</th>\n",
              "      <td>positive</td>\n",
              "      <td>Allah anal? babal? bÃ¯Â¿Â½yÃ¯Â¿Â½tsÃ¯Â¿Â½n Onu...</td>\n",
              "      <td>allah anal  cabal  bit our day</td>\n",
              "    </tr>\n",
              "    <tr>\n",
              "      <th>99999</th>\n",
              "      <td>positive</td>\n",
              "      <td>@selenagomez I can't wait to see the movie, I ...</td>\n",
              "      <td>not wait see movie use read book young</td>\n",
              "    </tr>\n",
              "  </tbody>\n",
              "</table>\n",
              "<p>100000 rows × 3 columns</p>\n",
              "</div>"
            ],
            "text/plain": [
              "          label  ...                                     cleaned_tweets\n",
              "0      positive  ...                                       just success\n",
              "1      positive  ...    dad say yes regard cell trip  wonder serious...\n",
              "2      negative  ...    okay joe kevin often always send question mi...\n",
              "3      negative  ...              tycoon dislike dash game  bit rubbish\n",
              "4      positive  ...    amazement poor thing 'll oh okay hopefully d...\n",
              "...         ...  ...                                                ...\n",
              "99995  negative  ...     texted speak mom  obviously pain stable  un...\n",
              "99996  positive  ...    two hour not help glorious weather awaken li...\n",
              "99997  negative  ...                         knoww  haha yes suffer guy\n",
              "99998  positive  ...                    allah anal  cabal  bit our day \n",
              "99999  positive  ...             not wait see movie use read book young\n",
              "\n",
              "[100000 rows x 3 columns]"
            ]
          },
          "metadata": {
            "tags": []
          },
          "execution_count": 11
        }
      ]
    },
    {
      "cell_type": "code",
      "metadata": {
        "colab": {
          "base_uri": "https://localhost:8080/",
          "height": 279
        },
        "id": "t6KLq1GpU0EK",
        "outputId": "ba6a40dc-bbdd-40e4-8399-160228583844"
      },
      "source": [
        "\n",
        "## Getting the number of words by splitting them by a space\n",
        "words_per_review = data.Tweet.apply(lambda x: len(x.split(\" \")))\n",
        "words_per_review.hist(bins = 100)\n",
        "plt.xlabel('Review Length (words)')\n",
        "plt.ylabel('Frequency')\n",
        "plt.show()"
      ],
      "execution_count": 12,
      "outputs": [
        {
          "output_type": "display_data",
          "data": {
            "image/png": "[encoded data removed]",
            "text/plain": [
              "<Figure size 432x288 with 1 Axes>"
            ]
          },
          "metadata": {
            "tags": [],
            "needs_background": "light"
          }
        }
      ]
    },
    {
      "cell_type": "code",
      "metadata": {
        "colab": {
          "base_uri": "https://localhost:8080/"
        },
        "id": "mW4Me1O8V74-",
        "outputId": "827373d5-68aa-4985-b579-dee2676c28b8"
      },
      "source": [
        "# Average Number of words per tweet\n",
        "print('Average words:', words_per_review.mean())\n",
        "print('Skewness:', words_per_review.skew())"
      ],
      "execution_count": 13,
      "outputs": [
        {
          "output_type": "stream",
          "text": [
            "Average words: 14.41435\n",
            "Skewness: 0.3720461919568061\n"
          ],
          "name": "stdout"
        }
      ]
    },
    {
      "cell_type": "code",
      "metadata": {
        "colab": {
          "base_uri": "https://localhost:8080/"
        },
        "id": "lshuBlegWTk4",
        "outputId": "cc1e81b6-f4c0-45ce-b0f1-aea87982727b"
      },
      "source": [
        "# Positive and Neagtive tweet dataset\n",
        "print(data['label'].value_counts())\n",
        "percent_val = 100 * data['label'].value_counts()/len(data)\n",
        "print(\"Postive Reviews: \"+str(percent_val.positive)+'%')\n",
        "print(\"Negative Reviews: \"+str(percent_val.negative)+'%')"
      ],
      "execution_count": 14,
      "outputs": [
        {
          "output_type": "stream",
          "text": [
            "positive    50024\n",
            "negative    49976\n",
            "Name: label, dtype: int64\n",
            "Postive Reviews: 50.024%\n",
            "Negative Reviews: 49.976%\n"
          ],
          "name": "stdout"
        }
      ]
    },
    {
      "cell_type": "code",
      "metadata": {
        "colab": {
          "base_uri": "https://localhost:8080/",
          "height": 248
        },
        "id": "p5xShF64XPUn",
        "outputId": "dbbef288-4a5b-49a7-b246-f75fdaac2be2"
      },
      "source": [
        "\n",
        "percent_val.plot.pie()\n",
        "plt.show()\n"
      ],
      "execution_count": 15,
      "outputs": [
        {
          "output_type": "display_data",
          "data": {
            "image/png": "[encoded data removed]",
            "text/plain": [
              "<Figure size 432x288 with 1 Axes>"
            ]
          },
          "metadata": {
            "tags": []
          }
        }
      ]
    },
    {
      "cell_type": "code",
      "metadata": {
        "colab": {
          "base_uri": "https://localhost:8080/",
          "height": 198
        },
        "id": "tyiTiNmhX3UT",
        "outputId": "08d13893-3339-46cd-de48-96860ec203be"
      },
      "source": [
        "# Should be done over clean tweets\n",
        "word_cloud_text = ''.join(data['cleaned_tweets'])\n",
        "\n",
        "wordcloud = WordCloud(max_font_size=100, # Maximum font size for the largest word\n",
        "                      max_words=100, # The maximum number of words\n",
        "                      background_color=\"white\", # Background color for the word cloud image\n",
        "                      scale = 10, # Scaling between computation and drawing\n",
        "                      width=800, # Width of the canvas\n",
        "                      height=400 # Height of the canvas\n",
        "                     ).generate(word_cloud_text)\n",
        "\n",
        "plt.figure()\n",
        "plt.imshow(wordcloud, \n",
        "           interpolation=\"bilinear\") # to make the displayed image appear more smoothly\n",
        "plt.axis(\"off\")\n",
        "plt.show()"
      ],
      "execution_count": 16,
      "outputs": [
        {
          "output_type": "display_data",
          "data": {
            "image/png": "[encoded data removed]",
            "text/plain": [
              "<Figure size 432x288 with 1 Axes>"
            ]
          },
          "metadata": {
            "tags": [],
            "needs_background": "light"
          }
        }
      ]
    },
    {
      "cell_type": "code",
      "metadata": {
        "colab": {
          "base_uri": "https://localhost:8080/"
        },
        "id": "ALFG8H85DT3U",
        "outputId": "dfeccf63-e041-431a-9f66-5510970493fa"
      },
      "source": [
        "data.columns"
      ],
      "execution_count": 17,
      "outputs": [
        {
          "output_type": "execute_result",
          "data": {
            "text/plain": [
              "Index(['label', 'Tweet', 'cleaned_tweets'], dtype='object')"
            ]
          },
          "metadata": {
            "tags": []
          },
          "execution_count": 17
        }
      ]
    },
    {
      "cell_type": "code",
      "metadata": {
        "id": "6x2dvH21ByLi"
      },
      "source": [
        "#dropping unwanted columns\n",
        "data=data.drop(columns=['0', '1467810369','Mon Apr 06 22:19:45 PDT 2009','NO_QUERY','_TheSpecialOne_'])"
      ],
      "execution_count": null,
      "outputs": []
    },
    {
      "cell_type": "code",
      "metadata": {
        "id": "gbsQ1uRJByLj"
      },
      "source": [
        "data['Tweet']=data[\"@switchfoot http://twitpic.com/2y1zl - Awww, that's a bummer.  You shoulda got David Carr of Third Day to do it. ;D\"]\n"
      ],
      "execution_count": null,
      "outputs": []
    },
    {
      "cell_type": "code",
      "metadata": {
        "colab": {
          "base_uri": "https://localhost:8080/",
          "height": 204
        },
        "id": "4yeIG6SQGFhT",
        "outputId": "c55850d9-d0ce-4c56-c466-93d1007762d8"
      },
      "source": [
        "\n",
        "data=data.drop(columns=[\"@switchfoot http://twitpic.com/2y1zl - Awww, that's a bummer.  You shoulda got David Carr of Third Day to do it. ;D\"])\n",
        "data.head()"
      ],
      "execution_count": null,
      "outputs": [
        {
          "output_type": "execute_result",
          "data": {
            "text/html": [
              "<div>\n",
              "<style scoped>\n",
              "    .dataframe tbody tr th:only-of-type {\n",
              "        vertical-align: middle;\n",
              "    }\n",
              "\n",
              "    .dataframe tbody tr th {\n",
              "        vertical-align: top;\n",
              "    }\n",
              "\n",
              "    .dataframe thead th {\n",
              "        text-align: right;\n",
              "    }\n",
              "</style>\n",
              "<table border=\"1\" class=\"dataframe\">\n",
              "  <thead>\n",
              "    <tr style=\"text-align: right;\">\n",
              "      <th></th>\n",
              "      <th>label</th>\n",
              "      <th>Tweet</th>\n",
              "    </tr>\n",
              "  </thead>\n",
              "  <tbody>\n",
              "    <tr>\n",
              "      <th>1204503</th>\n",
              "      <td>positive</td>\n",
              "      <td>21st was a successs</td>\n",
              "    </tr>\n",
              "    <tr>\n",
              "      <th>980721</th>\n",
              "      <td>positive</td>\n",
              "      <td>dad said YES regarding my Cebu trip!  i wonder...</td>\n",
              "    </tr>\n",
              "    <tr>\n",
              "      <th>589373</th>\n",
              "      <td>negative</td>\n",
              "      <td>@nickjonas Ok so you Joe and Kevin do this so ...</td>\n",
              "    </tr>\n",
              "    <tr>\n",
              "      <th>88531</th>\n",
              "      <td>negative</td>\n",
              "      <td>DDTycoon isn't like the other dash games.  It'...</td>\n",
              "    </tr>\n",
              "    <tr>\n",
              "      <th>1098139</th>\n",
              "      <td>positive</td>\n",
              "      <td>@MamaCitaa_ awww poor thing...lol oh okay hope...</td>\n",
              "    </tr>\n",
              "  </tbody>\n",
              "</table>\n",
              "</div>"
            ],
            "text/plain": [
              "            label                                              Tweet\n",
              "1204503  positive                               21st was a successs \n",
              "980721   positive  dad said YES regarding my Cebu trip!  i wonder...\n",
              "589373   negative  @nickjonas Ok so you Joe and Kevin do this so ...\n",
              "88531    negative  DDTycoon isn't like the other dash games.  It'...\n",
              "1098139  positive  @MamaCitaa_ awww poor thing...lol oh okay hope..."
            ]
          },
          "metadata": {
            "tags": []
          },
          "execution_count": 16
        }
      ]
    },
    {
      "cell_type": "code",
      "metadata": {
        "id": "qSixnjIbByLj"
      },
      "source": [
        "#Removes Emojis\n",
        "def remove_emoji(inputString):\n",
        "    return inputString.encode('ascii', 'ignore').decode('ascii')"
      ],
      "execution_count": 18,
      "outputs": []
    },
    {
      "cell_type": "code",
      "metadata": {
        "id": "VhajcRnjByLk"
      },
      "source": [
        "def shortform():\n",
        "    \n",
        "    return {\n",
        "        \n",
        "        \"couldn't\":\"could not\",\"couldn't've\":\"could not have\",\"could've\":\"could have\",\"didn't\":\"did not\",\"doesn't\":\"does not\",\n",
        "        \"don't\":\"do not\", \"em\":\"them\",\"everyone's\":\"everyone is\", \"gimme\":\"give me\",\"he'd\":\"he would\",\"he'll\":\"he will\",\n",
        "        \"he's\":\"he is\", \"ain't\":\"is not\", \"aren't\":\"are not\", \"can't\":\"cannot\", \"'cause\":\"because\", \"he've\":\"he have\",\n",
        "        \"how'd\":\"how would\", \"how'll\":\"how will\", \"how're\":\"how are\", \"how's\":\"how is\",\"I'll\":\"I will\",\"I'm\":\"I am\",\n",
        "        \"im\":\"I am\", \"isn't\":\"is not\",\"it'll\":\"it will\",\"it's\":\"it is\", \"I've\":\"I have\",\"kinda\":\"kind of\",\"let's\":\"let us\",\n",
        "        \"may've\":\"may have\", \"mightn't\":\"might not\",\"might've\":\"might have\",\"mustn't\":\"must not\",\"mustn't've\":\"must not have\",\n",
        "        \"must've\":\"must have\", \"needn't\":\"need not\", \"oughtn't\":\"ought not\",\"gonna\":\"going to\", \"gotta\":\"got to\",\n",
        "        \"hadn't\":\"had not\",\"hasn't\":\"has not\", \"haven't\":\"have not\", \"shalln't\":\"shall not\",  \"shan't\":\"shall not\", \"she'd\":\"she would\",\n",
        "        \"she'll\":\"she will\",  \"she's\":\"she is\",  \"shouldn't\":\"should not\", \"shouldn't've\":\"should not have\",\n",
        "        \"should've\":\"should have\", \"somebody's\":\"somebody is\",  \"someone's\":\"someone is\", \"something's\":\"something is\",\n",
        "        \"that'd\":\"that would\",\"that'll\":\"that will\", \"that're\":\"that are\", \"that's\":\"that is\",\n",
        "        \"there'd\":\"there would\", \"there'll\":\"there will\",\n",
        "        \"there're\":\"there are\",\"there's\":\"there is\", \"these're\":\"these are\",\"they'd\":\"they would\",\n",
        "        \"they'll\":\"they will\",\"they're\":\"they are\", \"they've\":\"they have\",      \"this's\":\"this is\",\n",
        "        \"those're\":\"those are\", \"wanna\":\"want to\", \"wasn't\":\"was not\", \"we'd\":\"we would\",\n",
        "        \"we'd've\":\"we would have\", \"we'll\":\"we will\",\"we're\":\"we are\",  \"weren't\":\"were not\",\n",
        "        \"we've\":\"we have\", \"what'd\":\"what did\", \"what'll\":\"what will\", \"what're\":\"what are\",\n",
        "        \"what's\":\"what is\", \"what've\":\"what have\", \"when's\":\"when is\", \"where'd\":\"where did\",\n",
        "        \"where're\":\"where are\", \"where's\":\"where is\",\"where've\":\"where have\",\"which's\":\"which is\",\n",
        "        \"who'd\":\"who would\", \"who'd've\":\"who would have\",\"who'll\":\"who will\", \"who're\":\"who are\",\n",
        "        \"who's\":\"who is\", \"who've\":\"who have\", \"why'd\":\"why did\",\"why're\":\"why are\",\n",
        "        \"why's\":\"why is\", \"won't\":\"will not\",\"wouldn't\":\"would not\", \"would've\":\"would have\",\n",
        "        \"y'all\":\"you all\", \"you'd\":\"you would\", \"you'll\":\"you will\", \"you're\":\"you are\",\n",
        "        \"you've\":\"you have\",  \"luv\":\"love\",\"shit\":\"bad\", \"tmrw\":\"tomorrow\",\n",
        "        \"u\":\"you\", \"ur\":\"your\",\"k\":\"okay\", \"ok\":\"okay\",\"da\":\"the\",\"tom\":\"tomorrow\", \"Tom\":\"tomorrow\", \"wassup\":\"what is up with you\",\n",
        "        \"yo\":\"greet\",\"hey\":\"greet\",\"lol\":\"laugh\",\"lmao\":\"laugh\", \"Lmao\":\"laugh\",\"rofl\":\"laugh\", \"y\":\"why\",\n",
        "        \"wut\":\"what\",   \"wat\":\"what\", \"stfu\":\"angry\", \"wtf\":\"angry\",  \"ya\":\"yes\",  \"yeah\":\"yes\",\n",
        "        \"umm\":\"confused\",  \"hmmm\":\"confused\", \"awww\":\"amazement\",\"aww\":\"amazement\",\n",
        "        \"can't\":\"cannot\",\"Can't\":\"cannot\", \"CAN'T\":\"cannot\",\"awe\":\"amazement\",\n",
        "        \"Awe\":\"amazement\",\"ugh\":\"sad\", \"ughh\":\"sad\",\n",
        "       \n",
        "        }\n",
        "\n"
      ],
      "execution_count": 20,
      "outputs": []
    },
    {
      "cell_type": "code",
      "metadata": {
        "id": "gjBKlnVPByLr"
      },
      "source": [
        "def emoticons():\n",
        "    \n",
        "    return {\n",
        "        \":)\":\"smiley\",\n",
        "        \":‑)\":\"smiley\",\n",
        "        \":-]\":\"smiley\",\n",
        "        \":-3\":\"smiley\",\n",
        "        \":->\":\"smiley\",\n",
        "        \"8-)\":\"smiley\",\n",
        "        \":-}\":\"smiley\",\n",
        "        \":)\":\"smiley\",\n",
        "        \":c)\":\"smiley\",\n",
        "        \":^)\":\"smiley\",\n",
        "        \":‑D\":\"smiley\",\n",
        "        \"x‑D\":\"smiley\",\n",
        "        \"X‑D\":\"smiley\",\n",
        "        \":D\":\"smiley\",\n",
        "        \"xD\":\"smiley\",\n",
        "        \"XD\":\"smiley\",\n",
        "        \":‑(\":\"sad\",\n",
        "        \":‑c\":\"sad\",\n",
        "        \":(\":\"sad\",\n",
        "        \":(\":\"sad\",\n",
        "        \"-_-\":\"angry\",\n",
        "        \":|\":\"normal\",\n",
        "         \"<3\":\"love\"\n",
        "        }\n",
        "\n",
        "\n"
      ],
      "execution_count": 21,
      "outputs": []
    },
    {
      "cell_type": "code",
      "metadata": {
        "id": "C78z-JkyByLw"
      },
      "source": [
        "def removal_of_noise(sent):\n",
        "    clean_sent=[]\n",
        "    temp_st=\"\"\n",
        "    list_sent=sent.split(\" \")\n",
        "    c=0\n",
        "    d=shortform()\n",
        "    emoji=emoticons()\n",
        "    for word in list_sent:\n",
        "        #removal of url\n",
        "        word = re.sub(r\"http\\S+\", \"\", word)\n",
        "        word = re.sub(r\"[www.][a-zA-Z0-9_]+[.com]\", \"\", word)\n",
        "        #removal of account handles '@'\n",
        "        word = re.sub(\"(@[A-Za-z0-9_]+)\",\"\", word) \n",
        "        \n",
        "        #replacing emoticons with their respective words\n",
        "        if(word in emoji.keys()):\n",
        "            word=emoji[word]\n",
        "        #replacing short form words with their full form\n",
        "        if(word.lower() in d.keys()):\n",
        "            word=d[word.lower()]\n",
        "        if(c==0):\n",
        "            temp_st=word\n",
        "        else:\n",
        "            temp_st=temp_st+\" \"+word\n",
        "        c=c+1\n",
        "    sent=temp_st\n",
        "    stop_words = set(stopwords.words('english'))\n",
        "    stop_words.add('is')\n",
        "    stop_words.remove('not')\n",
        "    for word in word_tokenize(sent):\n",
        "        if(word.lower() not in stop_words and word.lower() not in string.punctuation and word!=\"'\" and word!='\"' ):\n",
        "            word=spell.correction(word.lower())\n",
        "            word=re.sub(\"[0-9]+\",\"\",word)\n",
        "            word=re.sub(\"[.]+\",\" \",word)\n",
        "            word=re.sub(\"[-]+\",\" \",word)\n",
        "            word=re.sub(\"[_]+\",\" \",word)\n",
        "            word = re.sub(\"~\",\" \", word) \n",
        "            if(len(word)!=1):\n",
        "                clean_sent.append(word.lower())\n",
        "    cleaned_st=\"\"\n",
        "    for i in clean_sent:\n",
        "        cleaned_st=cleaned_st+\" \"+i\n",
        "    return lemmatization(cleaned_st)\n",
        "\n",
        "\n"
      ],
      "execution_count": 23,
      "outputs": []
    },
    {
      "cell_type": "code",
      "metadata": {
        "id": "N-C3S1G2ByLx"
      },
      "source": [
        "def lemmatization(sent):\n",
        "    lemmatize=WordNetLemmatizer()\n",
        "    sentence_after_lemmatization=[]\n",
        "    for word,tag in pos_tag(word_tokenize(sent)):\n",
        "        if(tag[0:2]==\"NN\"):\n",
        "            pos='n'\n",
        "        elif(tag[0:2]==\"VB\"):\n",
        "            pos='v'\n",
        "        else:\n",
        "            pos='a'\n",
        "        lem=lemmatize.lemmatize(word,pos)\n",
        "        sentence_after_lemmatization.append(lem)\n",
        "    st=\"\"\n",
        "    for i in sentence_after_lemmatization:\n",
        "        if(i!=\"be\" and i!=\"is\" and len(i)!=1):\n",
        "            st=st+\" \"+i\n",
        "    #print(\"lemi\",st)\n",
        "    c=0\n",
        "    list_text=st.split()\n",
        "    flag=0\n",
        "    new_st=\"\"\n",
        "    for i in list_text:\n",
        "        temp=i\n",
        "        if(flag==1):\n",
        "            flag=0\n",
        "            continue\n",
        "        if(i==\"not\" and (c+1)<len(list_text)):\n",
        "            for syn in wordnet.synsets(list_text[c+1]):\n",
        "                antonyms=[]\n",
        "                for l in syn.lemmas():\n",
        "                    #print(l)\n",
        "                    if l.antonyms():\n",
        "                        antonyms.append(l.antonyms()[0].name())\n",
        "                        #print(antonyms)\n",
        "                        temp=antonyms[0]\n",
        "                        flag=1\n",
        "                        break\n",
        "                if(flag==1):\n",
        "                    break\n",
        "        new_st=new_st+\" \"+temp\n",
        "        c+=1\n",
        "    \n",
        "    return new_st\n",
        "\n"
      ],
      "execution_count": 28,
      "outputs": []
    },
    {
      "cell_type": "code",
      "metadata": {
        "id": "jCx8Tm9bByLy"
      },
      "source": [
        "#nltk module to get the sentiment polarity\n",
        "def sentiment_analysis(sent):\n",
        "        sid = SentimentIntensityAnalyzer()\n",
        "        print(sent)\n",
        "        ss = sid.polarity_scores(sent)\n",
        "        w=ss['pos']\n",
        "        q=ss['neg']\n",
        "        print(w-q)\n",
        "        return w-q\n",
        "\n"
      ],
      "execution_count": 27,
      "outputs": []
    },
    {
      "cell_type": "code",
      "metadata": {
        "id": "NLAx78luByLz"
      },
      "source": [
        "def start(text):\n",
        "    #removes html tags\n",
        "    text =BeautifulSoup(text).get_text()\n",
        "    text =text.replace(\"’\",\"'\")\n",
        "    new_text=sent_tokenize(text)\n",
        "    result=0\n",
        "    new_str=\"\"\n",
        "    for i in new_text:\n",
        "\n",
        "      j=remove_emoji(i)\n",
        "      res=removal_of_noise(j)\n",
        "      new_str=new_str+\" \"+res\n",
        "    return new_str\n",
        "\n"
      ],
      "execution_count": 29,
      "outputs": []
    },
    {
      "cell_type": "code",
      "metadata": {
        "colab": {
          "base_uri": "https://localhost:8080/",
          "height": 272
        },
        "id": "LUoKxm0OeGHu",
        "outputId": "02ac4967-7894-4279-8730-63c8d74159f7"
      },
      "source": [
        "data['tweet_lower']=data['Tweet'].str.lower()\n",
        "data.head()"
      ],
      "execution_count": 30,
      "outputs": [
        {
          "output_type": "execute_result",
          "data": {
            "text/html": [
              "<div>\n",
              "<style scoped>\n",
              "    .dataframe tbody tr th:only-of-type {\n",
              "        vertical-align: middle;\n",
              "    }\n",
              "\n",
              "    .dataframe tbody tr th {\n",
              "        vertical-align: top;\n",
              "    }\n",
              "\n",
              "    .dataframe thead th {\n",
              "        text-align: right;\n",
              "    }\n",
              "</style>\n",
              "<table border=\"1\" class=\"dataframe\">\n",
              "  <thead>\n",
              "    <tr style=\"text-align: right;\">\n",
              "      <th></th>\n",
              "      <th>label</th>\n",
              "      <th>Tweet</th>\n",
              "      <th>cleaned_tweets</th>\n",
              "      <th>tweet_lower</th>\n",
              "    </tr>\n",
              "  </thead>\n",
              "  <tbody>\n",
              "    <tr>\n",
              "      <th>0</th>\n",
              "      <td>positive</td>\n",
              "      <td>21st was a successs</td>\n",
              "      <td>just success</td>\n",
              "      <td>21st was a successs</td>\n",
              "    </tr>\n",
              "    <tr>\n",
              "      <th>1</th>\n",
              "      <td>positive</td>\n",
              "      <td>dad said YES regarding my Cebu trip!  i wonder...</td>\n",
              "      <td>dad say yes regard cell trip  wonder serious...</td>\n",
              "      <td>dad said yes regarding my cebu trip!  i wonder...</td>\n",
              "    </tr>\n",
              "    <tr>\n",
              "      <th>2</th>\n",
              "      <td>negative</td>\n",
              "      <td>@nickjonas Ok so you Joe and Kevin do this so ...</td>\n",
              "      <td>okay joe kevin often always send question mi...</td>\n",
              "      <td>@nickjonas ok so you joe and kevin do this so ...</td>\n",
              "    </tr>\n",
              "    <tr>\n",
              "      <th>3</th>\n",
              "      <td>negative</td>\n",
              "      <td>DDTycoon isn't like the other dash games.  It'...</td>\n",
              "      <td>tycoon dislike dash game  bit rubbish</td>\n",
              "      <td>ddtycoon isn't like the other dash games.  it'...</td>\n",
              "    </tr>\n",
              "    <tr>\n",
              "      <th>4</th>\n",
              "      <td>positive</td>\n",
              "      <td>@MamaCitaa_ awww poor thing...lol oh okay hope...</td>\n",
              "      <td>amazement poor thing 'll oh okay hopefully d...</td>\n",
              "      <td>@mamacitaa_ awww poor thing...lol oh okay hope...</td>\n",
              "    </tr>\n",
              "  </tbody>\n",
              "</table>\n",
              "</div>"
            ],
            "text/plain": [
              "      label  ...                                        tweet_lower\n",
              "0  positive  ...                               21st was a successs \n",
              "1  positive  ...  dad said yes regarding my cebu trip!  i wonder...\n",
              "2  negative  ...  @nickjonas ok so you joe and kevin do this so ...\n",
              "3  negative  ...  ddtycoon isn't like the other dash games.  it'...\n",
              "4  positive  ...  @mamacitaa_ awww poor thing...lol oh okay hope...\n",
              "\n",
              "[5 rows x 4 columns]"
            ]
          },
          "metadata": {
            "tags": []
          },
          "execution_count": 30
        }
      ]
    },
    {
      "cell_type": "code",
      "metadata": {
        "id": "VxgDWpfMByL0",
        "colab": {
          "base_uri": "https://localhost:8080/"
        },
        "outputId": "79f151ec-c1c2-427c-d173-33ed01faf2f6"
      },
      "source": [
        "clean_list=[]\n",
        "p=0;\n",
        "for i in data[\"Tweet\"]:\n",
        "    print(i)\n",
        "    x=start(i)\n",
        "    print(x)\n",
        "    p+=1\n",
        "    if p >10:\n",
        "\n",
        "      break\n",
        "    clean_list.append(x)\n",
        "    "
      ],
      "execution_count": null,
      "outputs": [
        {
          "output_type": "stream",
          "text": [
            "@LMW1305 will add to the list \n",
            "  add list\n",
            "--------------------------\n",
            "@MoriahJovan Oh! You mean it's not you? I thought it had that pre-Raphaelite look. \n",
            "  oh  mean not  think pre raphaelite look\n",
            "--------------------------\n",
            "ok so its past 6 and i havent eaten since my break at like 930ish this morning, i need food, i'm SOOOOOOOOOOOOOOOO hungry \n",
            "  okay past havent eaten since break like ish morning need food soooooooooooooooo hungry\n",
            "--------------------------\n",
            "I get stupidly excited when new people follow me and go and look and it's usually just spammers. \n",
            "  get stupidly excited new people follow go look usually spammer\n",
            "--------------------------\n",
            "@WaltEly Hey, thanks for the correction! \n",
            "  hey thanks correction\n",
            "--------------------------\n",
            "@ddlovato haha that was funny \n",
            "  haha funny\n",
            "--------------------------\n",
            "@Mucho_Maas Just download the Skype application! That does suck though \n",
            "  dead skype application  suck though\n",
            "--------------------------\n",
            "@officialashleyg must be hard \n",
            "  must hard\n",
            "--------------------------\n",
            "Damn Chauncey Billups is blown. Sorry Denver! \n",
            "  damn chance bill blo  sorry denver\n",
            "--------------------------\n",
            "and its a beautiful day to drive \n",
            "  beautiful day drive\n",
            "--------------------------\n",
            "@DefyGravity81  not a NK gal a SUFI gal so you won't know her \n",
            "  yes gal sufi gal not know\n",
            "--------------------------\n"
          ],
          "name": "stdout"
        }
      ]
    },
    {
      "cell_type": "code",
      "metadata": {
        "colab": {
          "base_uri": "https://localhost:8080/"
        },
        "id": "_muwTUzeL3Wy",
        "outputId": "2c22411f-5e7b-47d7-a80b-20dfbd0ff6ab"
      },
      "source": [
        "\n",
        "new_list=[]\n",
        "new_list = clean_list\n",
        "len(clean_list)"
      ],
      "execution_count": null,
      "outputs": [
        {
          "output_type": "execute_result",
          "data": {
            "text/plain": [
              "100000"
            ]
          },
          "metadata": {
            "tags": []
          },
          "execution_count": 32
        }
      ]
    },
    {
      "cell_type": "code",
      "metadata": {
        "id": "x7PRvs3mByMO"
      },
      "source": [
        "with open('cleaned_tweet1.txt', 'w') as f:\n",
        "    for item in clean_list:\n",
        "        f.write(\"%s\\n\" % item) \n",
        "     "
      ],
      "execution_count": null,
      "outputs": []
    },
    {
      "cell_type": "code",
      "metadata": {
        "id": "besj5K1qByMP"
      },
      "source": [
        "#reading from file cleaned tweets and storing in a cleaned tweets column in the dataframe\n",
        "filename = \"/content/drive/MyDrive/cleaned_tweet2.txt\"\n",
        "with open(filename) as f:\n",
        "    lines = f.read().splitlines()\n",
        "lines\n",
        "data[\"cleaned_tweets\"]=lines"
      ],
      "execution_count": 31,
      "outputs": []
    },
    {
      "cell_type": "code",
      "metadata": {
        "id": "txJhECOdByMP"
      },
      "source": [
        "#reading the adjective file\n",
        "filename = \"/content/drive/MyDrive/adjectives.txt\"\n",
        "with open(filename) as f:\n",
        "    lines = f.read().splitlines()\n",
        "lines\n",
        "adjectives=lines"
      ],
      "execution_count": 32,
      "outputs": []
    },
    {
      "cell_type": "code",
      "metadata": {
        "id": "AVbFrWEEByMQ",
        "colab": {
          "base_uri": "https://localhost:8080/"
        },
        "outputId": "6acb97e2-4e7a-419b-9e7e-cbee119c8258"
      },
      "source": [
        "#All adjectives words in the file\n",
        "all_words=[]\n",
        "negative=[\"not\"]\n",
        "for i in data[\"cleaned_tweets\"]:\n",
        "    for word in word_tokenize(i):\n",
        "        if(word in adjectives or word in negative):\n",
        "        #if(word in adjectives ):\n",
        "            all_words.append(word)\n",
        "\n",
        "len(all_words)"
      ],
      "execution_count": 33,
      "outputs": [
        {
          "output_type": "execute_result",
          "data": {
            "text/plain": [
              "100736"
            ]
          },
          "metadata": {
            "tags": []
          },
          "execution_count": 33
        }
      ]
    },
    {
      "cell_type": "code",
      "metadata": {
        "id": "2HN3_BSKByMR",
        "colab": {
          "base_uri": "https://localhost:8080/"
        },
        "outputId": "fd68f281-7352-42dd-c027-decdd9869785"
      },
      "source": [
        "#creating a frequency distribution of each adjectives. \n",
        "import nltk\n",
        "BagOfWords = nltk.FreqDist(all_words)\n",
        "BagOfWords\n",
        "len(BagOfWords)"
      ],
      "execution_count": 34,
      "outputs": [
        {
          "output_type": "execute_result",
          "data": {
            "text/plain": [
              "1049"
            ]
          },
          "metadata": {
            "tags": []
          },
          "execution_count": 34
        }
      ]
    },
    {
      "cell_type": "code",
      "metadata": {
        "id": "Vky7kjLQByMR",
        "colab": {
          "base_uri": "https://localhost:8080/"
        },
        "outputId": "a3a22de6-346f-46ba-f808-e2019f89b942"
      },
      "source": [
        "# listing the  5000 most frequent words\n",
        "word_features = list(BagOfWords.keys())[:5000]\n",
        "len(word_features)\n",
        "#word_features"
      ],
      "execution_count": 35,
      "outputs": [
        {
          "output_type": "execute_result",
          "data": {
            "text/plain": [
              "1049"
            ]
          },
          "metadata": {
            "tags": []
          },
          "execution_count": 35
        }
      ]
    },
    {
      "cell_type": "code",
      "metadata": {
        "id": "hot8TSHEByMS"
      },
      "source": [
        "#after preprocessing data\n",
        "\n",
        "data.to_csv(\"/content/data_lac.csv\",index=False)\n"
      ],
      "execution_count": null,
      "outputs": []
    },
    {
      "cell_type": "code",
      "metadata": {
        "colab": {
          "base_uri": "https://localhost:8080/",
          "height": 572
        },
        "id": "EfuuleQI926I",
        "outputId": "190cb3de-e404-4879-ff20-979459610d2a"
      },
      "source": [
        "data"
      ],
      "execution_count": 36,
      "outputs": [
        {
          "output_type": "execute_result",
          "data": {
            "text/html": [
              "<div>\n",
              "<style scoped>\n",
              "    .dataframe tbody tr th:only-of-type {\n",
              "        vertical-align: middle;\n",
              "    }\n",
              "\n",
              "    .dataframe tbody tr th {\n",
              "        vertical-align: top;\n",
              "    }\n",
              "\n",
              "    .dataframe thead th {\n",
              "        text-align: right;\n",
              "    }\n",
              "</style>\n",
              "<table border=\"1\" class=\"dataframe\">\n",
              "  <thead>\n",
              "    <tr style=\"text-align: right;\">\n",
              "      <th></th>\n",
              "      <th>label</th>\n",
              "      <th>Tweet</th>\n",
              "      <th>cleaned_tweets</th>\n",
              "      <th>tweet_lower</th>\n",
              "    </tr>\n",
              "  </thead>\n",
              "  <tbody>\n",
              "    <tr>\n",
              "      <th>0</th>\n",
              "      <td>positive</td>\n",
              "      <td>21st was a successs</td>\n",
              "      <td>just success</td>\n",
              "      <td>21st was a successs</td>\n",
              "    </tr>\n",
              "    <tr>\n",
              "      <th>1</th>\n",
              "      <td>positive</td>\n",
              "      <td>dad said YES regarding my Cebu trip!  i wonder...</td>\n",
              "      <td>dad say yes regard cell trip  wonder serious...</td>\n",
              "      <td>dad said yes regarding my cebu trip!  i wonder...</td>\n",
              "    </tr>\n",
              "    <tr>\n",
              "      <th>2</th>\n",
              "      <td>negative</td>\n",
              "      <td>@nickjonas Ok so you Joe and Kevin do this so ...</td>\n",
              "      <td>okay joe kevin often always send question mi...</td>\n",
              "      <td>@nickjonas ok so you joe and kevin do this so ...</td>\n",
              "    </tr>\n",
              "    <tr>\n",
              "      <th>3</th>\n",
              "      <td>negative</td>\n",
              "      <td>DDTycoon isn't like the other dash games.  It'...</td>\n",
              "      <td>tycoon dislike dash game  bit rubbish</td>\n",
              "      <td>ddtycoon isn't like the other dash games.  it'...</td>\n",
              "    </tr>\n",
              "    <tr>\n",
              "      <th>4</th>\n",
              "      <td>positive</td>\n",
              "      <td>@MamaCitaa_ awww poor thing...lol oh okay hope...</td>\n",
              "      <td>amazement poor thing 'll oh okay hopefully d...</td>\n",
              "      <td>@mamacitaa_ awww poor thing...lol oh okay hope...</td>\n",
              "    </tr>\n",
              "    <tr>\n",
              "      <th>...</th>\n",
              "      <td>...</td>\n",
              "      <td>...</td>\n",
              "      <td>...</td>\n",
              "      <td>...</td>\n",
              "    </tr>\n",
              "    <tr>\n",
              "      <th>99995</th>\n",
              "      <td>negative</td>\n",
              "      <td>.@ShaddyBabeBiTch she texted me &amp;amp; i spoke ...</td>\n",
              "      <td>texted speak mom  obviously pain stable  un...</td>\n",
              "      <td>.@shaddybabebitch she texted me &amp;amp; i spoke ...</td>\n",
              "    </tr>\n",
              "    <tr>\n",
              "      <th>99996</th>\n",
              "      <td>positive</td>\n",
              "      <td>Two hours in - It's not helping that the glori...</td>\n",
              "      <td>two hour not help glorious weather awaken li...</td>\n",
              "      <td>two hours in - it's not helping that the glori...</td>\n",
              "    </tr>\n",
              "    <tr>\n",
              "      <th>99997</th>\n",
              "      <td>negative</td>\n",
              "      <td>@manaloloandlola i knowww! HAHAH, yes, but i c...</td>\n",
              "      <td>knoww  haha yes suffer guy</td>\n",
              "      <td>@manaloloandlola i knowww! hahah, yes, but i c...</td>\n",
              "    </tr>\n",
              "    <tr>\n",
              "      <th>99998</th>\n",
              "      <td>positive</td>\n",
              "      <td>Allah anal? babal? bÃ¯Â¿Â½yÃ¯Â¿Â½tsÃ¯Â¿Â½n Onu...</td>\n",
              "      <td>allah anal  cabal  bit our day</td>\n",
              "      <td>allah anal? babal? bã¯â¿â½yã¯â¿â½tsã¯â¿â½n onu...</td>\n",
              "    </tr>\n",
              "    <tr>\n",
              "      <th>99999</th>\n",
              "      <td>positive</td>\n",
              "      <td>@selenagomez I can't wait to see the movie, I ...</td>\n",
              "      <td>not wait see movie use read book young</td>\n",
              "      <td>@selenagomez i can't wait to see the movie, i ...</td>\n",
              "    </tr>\n",
              "  </tbody>\n",
              "</table>\n",
              "<p>100000 rows × 4 columns</p>\n",
              "</div>"
            ],
            "text/plain": [
              "          label  ...                                        tweet_lower\n",
              "0      positive  ...                               21st was a successs \n",
              "1      positive  ...  dad said yes regarding my cebu trip!  i wonder...\n",
              "2      negative  ...  @nickjonas ok so you joe and kevin do this so ...\n",
              "3      negative  ...  ddtycoon isn't like the other dash games.  it'...\n",
              "4      positive  ...  @mamacitaa_ awww poor thing...lol oh okay hope...\n",
              "...         ...  ...                                                ...\n",
              "99995  negative  ...  .@shaddybabebitch she texted me &amp; i spoke ...\n",
              "99996  positive  ...  two hours in - it's not helping that the glori...\n",
              "99997  negative  ...  @manaloloandlola i knowww! hahah, yes, but i c...\n",
              "99998  positive  ...  allah anal? babal? bã¯â¿â½yã¯â¿â½tsã¯â¿â½n onu...\n",
              "99999  positive  ...  @selenagomez i can't wait to see the movie, i ...\n",
              "\n",
              "[100000 rows x 4 columns]"
            ]
          },
          "metadata": {
            "tags": []
          },
          "execution_count": 36
        }
      ]
    },
    {
      "cell_type": "code",
      "metadata": {
        "id": "xq1RJSLUByMU"
      },
      "source": [
        "#Spliting into test data and train data\n",
        "y=data[\"label\"]\n",
        "x=data.drop('label',axis=1)\n",
        "x_train,x_test,y_train,y_test=train_test_split(x,y,test_size=0.30)"
      ],
      "execution_count": 45,
      "outputs": []
    },
    {
      "cell_type": "code",
      "metadata": {
        "id": "KmOtNi3UByMU",
        "colab": {
          "base_uri": "https://localhost:8080/"
        },
        "outputId": "f0d2366c-2fdc-43a3-ab06-fcbdcc0771a8"
      },
      "source": [
        "x_train.shape"
      ],
      "execution_count": 46,
      "outputs": [
        {
          "output_type": "execute_result",
          "data": {
            "text/plain": [
              "(70000, 3)"
            ]
          },
          "metadata": {
            "tags": []
          },
          "execution_count": 46
        }
      ]
    },
    {
      "cell_type": "code",
      "metadata": {
        "id": "zmtVP31QByMV"
      },
      "source": [
        "#creating test and train data frames\n",
        "X_train = pd.DataFrame(columns=['Tweet','cleaned_tweets'])\n",
        "X_test = pd.DataFrame(columns=['Tweet','cleaned_tweets'])\n",
        "Y_train = []\n",
        "Y_test = []\n",
        "X_train = X_train.append(x_train)\n",
        "for i in y_test:\n",
        "    Y_test.append(i)\n",
        "for i in y_train:\n",
        "     Y_train.append(i)\n",
        "X_test = X_test.append(x_test)"
      ],
      "execution_count": 54,
      "outputs": []
    },
    {
      "cell_type": "code",
      "metadata": {
        "id": "Pm6u8Ke3ByMW"
      },
      "source": [
        "#spliting into train sets for training \n",
        "training_set=[]\n",
        "count=0\n",
        "for i in (X_train[\"cleaned_tweets\"]):\n",
        "    training_set.append((i.split(),Y_train[count]))\n",
        "    count+=1\n",
        "\n",
        "def list_to_dict(words_list):\n",
        "    return dict([(word, True) for word in words_list])\n",
        "training_set_formatted = [(list_to_dict(element[0]), element[1]) for element in training_set]\n"
      ],
      "execution_count": 55,
      "outputs": []
    },
    {
      "cell_type": "code",
      "metadata": {
        "id": "BLaj398uByMW"
      },
      "source": [
        "#spliting into test sets for testing\n",
        "test_set=[]\n",
        "count=0\n",
        "for i in (X_test[\"cleaned_tweets\"]):\n",
        "    test_set.append((i.split(),Y_test[count]))\n",
        "    count+=1    \n",
        "\n",
        "def list_to_dict(words_list):\n",
        "    return dict([(word, True) for word in words_list])\n",
        "test_set_formatted= [(list_to_dict(element[0]), element[1]) for element in test_set]"
      ],
      "execution_count": 57,
      "outputs": []
    },
    {
      "cell_type": "code",
      "metadata": {
        "id": "rr1kY9KNByMX"
      },
      "source": [
        "from sklearn.metrics import recall_score, precision_score\n",
        "#making a list for both the classifiers \n",
        "classifiers=[]\n",
        "#making a list of classifiers with their accuracy\n",
        "accuracy=[]"
      ],
      "execution_count": 59,
      "outputs": []
    },
    {
      "cell_type": "code",
      "metadata": {
        "id": "gpcyYQuBByMc",
        "colab": {
          "base_uri": "https://localhost:8080/"
        },
        "outputId": "91ebe342-88a5-4223-f163-f90f2aaadbdd"
      },
      "source": [
        "#Stochastic Gradient Descent classifier\n",
        "sgd_classifier = SklearnClassifier(SGDClassifier())\n",
        "sgd_classifier.train(training_set_formatted)\n",
        "print(\"Stochastic Gradient Descent Classifier_classifier accuracy percent:\", (nltk.classify.accuracy(sgd_classifier, test_set_formatted))*100)\n",
        "\n",
        "ground_truth = [r[1] for r in test_set_formatted]\n",
        "preds = [sgd_classifier.classify(r[0]) for r in test_set_formatted]\n",
        "f1score=f1_score(ground_truth, preds, labels = ['negative', 'positive'], average = 'micro')\n",
        "recallscore=recall_score(ground_truth, preds, labels = ['negative', 'positive'], average = 'macro')\n",
        "precisionscore=precision_score(ground_truth, preds, labels = ['negative', 'positive'], average = 'weighted')\n",
        "accuracy.append([(nltk.classify.accuracy(sgd_classifier, test_set_formatted))*100,\"SGD\"])\n",
        "classifiers.append([sgd_classifier,\"Stochastic Gradient Descent classifier\"])\n",
        "print(\"Stochastic Gradient Descent\")\n",
        "target_names = [ 'positive','negative']\n",
        "print(classification_report(Y_test, preds, target_names=target_names))"
      ],
      "execution_count": 67,
      "outputs": [
        {
          "output_type": "stream",
          "text": [
            "Stochastic Gradient Descent Classifier_classifier accuracy percent: 76.5\n",
            "Stochastic Gradient Descent\n",
            "              precision    recall  f1-score   support\n",
            "\n",
            "    positive       0.79      0.73      0.76     15053\n",
            "    negative       0.75      0.80      0.77     14947\n",
            "\n",
            "    accuracy                           0.77     30000\n",
            "   macro avg       0.77      0.77      0.76     30000\n",
            "weighted avg       0.77      0.77      0.76     30000\n",
            "\n"
          ],
          "name": "stdout"
        }
      ]
    },
    {
      "cell_type": "code",
      "metadata": {
        "scrolled": false,
        "id": "iwOv_Y0AByMd",
        "colab": {
          "base_uri": "https://localhost:8080/"
        },
        "outputId": "7fc130b8-b3fa-4a1c-953b-3c3879c9ac59"
      },
      "source": [
        "#Max Entropy classifier\n",
        "\n",
        "def max_ent(training_set_formatted):\n",
        "    numIterations = 3\n",
        "    algorithm = nltk.classify.MaxentClassifier.ALGORITHMS[0]\n",
        "    classifier = nltk.MaxentClassifier.train(training_set_formatted, algorithm, max_iter=numIterations)\n",
        "    classifier.show_most_informative_features(5)\n",
        "    return classifier\n",
        "    \n",
        "maxent_classifier=max_ent(training_set_formatted)\n",
        "ground_truth = [r[1] for r in test_set_formatted]\n",
        "preds = [maxent_classifier.classify(r[0]) for r in test_set_formatted]\n",
        "f1score=f1_score(ground_truth, preds, labels = ['negative', 'positive'], average = 'micro')\n",
        "recallscore=recall_score(ground_truth, preds, labels = ['negative', 'positive'], average = 'macro')\n",
        "precisionscore=precision_score(ground_truth, preds, labels = ['negative', 'positive'], average = 'weighted')\n",
        "\n",
        "print(\"Accuracy : \",f1_score(ground_truth, preds, labels = ['positive', 'negative'], average = 'micro')*100)\n",
        "accuracy.append([(nltk.classify.accuracy(maxent_classifier, test_set_formatted))*100,\"MaxEnt\"])\n",
        "#Adding it to the list of classifiers\n",
        "classifiers.append([maxent_classifier,\"Max Entropy classifier\"])\n",
        "print()\n",
        "target_names = [ 'positive','negative']\n",
        "print(classification_report(Y_test, preds, target_names=target_names))\n"
      ],
      "execution_count": 68,
      "outputs": [
        {
          "output_type": "stream",
          "text": [
            "  ==> Training (3 iterations)\n",
            "\n",
            "      Iteration    Log Likelihood    Accuracy\n",
            "      ---------------------------------------\n",
            "             1          -0.69315        0.501\n",
            "             2          -0.69312        0.816\n",
            "         Final          -0.69309        0.816\n",
            "  -0.000 worried==True and label is 'positive'\n",
            "  -0.000 followfriday==True and label is 'negative'\n",
            "  -0.000 sneeze==True and label is 'positive'\n",
            "  -0.000 emergency==True and label is 'positive'\n",
            "  -0.000 fol==True and label is 'positive'\n",
            "Accuracy :  75.08666666666667\n",
            "\n",
            "              precision    recall  f1-score   support\n",
            "\n",
            "    positive       0.73      0.81      0.76     15053\n",
            "    negative       0.78      0.69      0.74     14947\n",
            "\n",
            "    accuracy                           0.75     30000\n",
            "   macro avg       0.75      0.75      0.75     30000\n",
            "weighted avg       0.75      0.75      0.75     30000\n",
            "\n"
          ],
          "name": "stdout"
        }
      ]
    },
    {
      "cell_type": "code",
      "metadata": {
        "colab": {
          "base_uri": "https://localhost:8080/"
        },
        "id": "8zOGe0ps0vWz",
        "outputId": "43232846-6491-4b44-c78d-195987c93f44"
      },
      "source": [
        "accuracy"
      ],
      "execution_count": 70,
      "outputs": [
        {
          "output_type": "execute_result",
          "data": {
            "text/plain": [
              "[[76.41333333333333, 'SGD'],\n",
              " [76.41333333333333, 'SGD'],\n",
              " [75.08666666666667, 'MaxEnt'],\n",
              " [76.5, 'SGD'],\n",
              " [75.08666666666667, 'MaxEnt']]"
            ]
          },
          "metadata": {
            "tags": []
          },
          "execution_count": 70
        }
      ]
    },
    {
      "cell_type": "code",
      "metadata": {
        "colab": {
          "base_uri": "https://localhost:8080/"
        },
        "id": "uZuEEp4NONXp",
        "outputId": "47d1129c-f8da-470b-a603-1c061f236797"
      },
      "source": [
        "classifier=classifiers[0]\n",
        "classifier.append(classifiers[2])\n",
        "classifier"
      ],
      "execution_count": 105,
      "outputs": [
        {
          "output_type": "execute_result",
          "data": {
            "text/plain": [
              "[<SklearnClassifier(SGDClassifier(alpha=0.0001, average=False, class_weight=None,\n",
              "               early_stopping=False, epsilon=0.1, eta0=0.0, fit_intercept=True,\n",
              "               l1_ratio=0.15, learning_rate='optimal', loss='hinge',\n",
              "               max_iter=1000, n_iter_no_change=5, n_jobs=None, penalty='l2',\n",
              "               power_t=0.5, random_state=None, shuffle=True, tol=0.001,\n",
              "               validation_fraction=0.1, verbose=0, warm_start=False))>,\n",
              " 'SGD classifier',\n",
              " [<ConditionalExponentialClassifier: 2 labels, 39271 features>,\n",
              "  'Max Entropy classifier']]"
            ]
          },
          "metadata": {
            "tags": []
          },
          "execution_count": 105
        }
      ]
    },
    {
      "cell_type": "code",
      "metadata": {
        "id": "2pITcErIByMh"
      },
      "source": [
        "def features_extraction(text):\n",
        "    new_list=[]\n",
        "    for i in text.split():\n",
        "        if(i in adjectives):\n",
        "            new_list.append(i)\n",
        "    return new_list"
      ],
      "execution_count": 108,
      "outputs": []
    },
    {
      "cell_type": "code",
      "metadata": {
        "id": "P3ANh1jlByMh"
      },
      "source": [
        "def classify_text(text):\n",
        "    cleaned_text=start(text)\n",
        "    temp=features_extraction(cleaned_text)\n",
        "    test_data=list_to_dict(temp)\n",
        "    print(temp)\n",
        "    print(\"Tweet by user : \",text)\n",
        "    for i in classifier:\n",
        "        print(i[1])\n",
        "        determined_label=i[0].classify(test_data)\n",
        "        print(\"Tweet has sentiment: \",determined_label)\n",
        "        print(\"******************************\")\n",
        " "
      ],
      "execution_count": 109,
      "outputs": []
    },
    {
      "cell_type": "code",
      "metadata": {
        "id": "diYRsNuOByMj"
      },
      "source": [
        "#input from the user which will be used to classify \n",
        "def fun(input_text):\n",
        "    translator = Translator()\n",
        "    x=translator.translate(input_text,src=\"hi\",dest=\"en\")\n",
        "    classify_text(x.text)"
      ],
      "execution_count": 110,
      "outputs": []
    },
    {
      "cell_type": "code",
      "metadata": {
        "id": "hvu-mS9eByMj"
      },
      "source": [
        "#input from the user which will be used to classify \n",
        "from textblob import TextBlob\n",
        "\n",
        "def fun2(input_text):\n",
        "    l=input_text.split()\n",
        "    st=\"\"\n",
        "    for i in l:\n",
        "        word=TextBlob(i)\n",
        "        if(word.detect_language()==\"hi\"):\n",
        "            translator = Translator()\n",
        "            x=translator.translate(i,src=\"hi\",dest=\"en\")\n",
        "            st=st+\" \"+x.text\n",
        "        else:\n",
        "            st=st+\" \"+i\n",
        "    classify_text(st)"
      ],
      "execution_count": 111,
      "outputs": []
    },
    {
      "cell_type": "code",
      "metadata": {
        "id": "AxsEjO1kByMk"
      },
      "source": [
        "def sentiment_detect(input_text):\n",
        "    l=input_text.split()\n",
        "    flag=0\n",
        "    for i in l:\n",
        "        k=len(i)\n",
        "        if(k<3):\n",
        "            flag=1\n",
        "            hing(input_text)\n",
        "    if(not(flag)):\n",
        "        hing2(input_text)\n",
        "            "
      ],
      "execution_count": 112,
      "outputs": []
    },
    {
      "cell_type": "code",
      "metadata": {
        "id": "SLofInZFByMk",
        "colab": {
          "base_uri": "https://localhost:8080/"
        },
        "outputId": "bf6a4d32-5697-4a35-f590-13b8e57f6d00"
      },
      "source": [
        "sentiment_detect(\"tum acche ho\")"
      ],
      "execution_count": 113,
      "outputs": [
        {
          "output_type": "stream",
          "text": [
            "['good']\n",
            "Tweet by user :  You're good\n",
            "SGD classifier\n",
            "Tweet has sentiment:  positive\n",
            "******************************\n",
            "Stochastic Gradient Descent classifier\n",
            "Tweet has sentiment:  positive\n",
            "******************************\n",
            "Max Entropy classifier\n",
            "Tweet has sentiment:  positive\n",
            "******************************\n",
            "Stochastic Gradient Descent classifier\n",
            "Tweet has sentiment:  positive\n",
            "******************************\n",
            "Max Entropy classifier\n",
            "Tweet has sentiment:  positive\n",
            "******************************\n"
          ],
          "name": "stdout"
        }
      ]
    },
    {
      "cell_type": "code",
      "metadata": {
        "id": "hDQ3-iDiByMl",
        "colab": {
          "base_uri": "https://localhost:8080/"
        },
        "outputId": "dff2f8ad-6165-4bc8-8513-eaec460832fd"
      },
      "source": [
        "sentiment_detect(\"tum log pagal ho\")"
      ],
      "execution_count": 115,
      "outputs": [
        {
          "output_type": "stream",
          "text": [
            "['crazy']\n",
            "Tweet by user :  You guys are crazy\n",
            "SGD classifier\n",
            "Tweet has sentiment:  positive\n",
            "******************************\n",
            "Stochastic Gradient Descent classifier\n",
            "Tweet has sentiment:  positive\n",
            "******************************\n",
            "Max Entropy classifier\n",
            "Tweet has sentiment:  negative\n",
            "******************************\n",
            "Stochastic Gradient Descent classifier\n",
            "Tweet has sentiment:  positive\n",
            "******************************\n",
            "Max Entropy classifier\n",
            "Tweet has sentiment:  negative\n",
            "******************************\n"
          ],
          "name": "stdout"
        }
      ]
    },
    {
      "cell_type": "code",
      "metadata": {
        "id": "YGOPZAFmByMl",
        "colab": {
          "base_uri": "https://localhost:8080/"
        },
        "outputId": "2dbf541b-a790-4338-fa54-95f0643eec4c"
      },
      "source": [
        "sentiment_detect(\"tum pagal ho\")"
      ],
      "execution_count": 116,
      "outputs": [
        {
          "output_type": "stream",
          "text": [
            "['mad']\n",
            "Tweet by user :  you are mad\n",
            "SGD classifier\n",
            "Tweet has sentiment:  negative\n",
            "******************************\n",
            "Stochastic Gradient Descent classifier\n",
            "Tweet has sentiment:  negative\n",
            "******************************\n",
            "Max Entropy classifier\n",
            "Tweet has sentiment:  negative\n",
            "******************************\n",
            "Stochastic Gradient Descent classifier\n",
            "Tweet has sentiment:  negative\n",
            "******************************\n",
            "Max Entropy classifier\n",
            "Tweet has sentiment:  negative\n",
            "******************************\n"
          ],
          "name": "stdout"
        }
      ]
    },
    {
      "cell_type": "code",
      "metadata": {
        "id": "3HZ__QVNByMm",
        "colab": {
          "base_uri": "https://localhost:8080/"
        },
        "outputId": "bd3a33bb-f05c-4c09-86eb-437697e18529"
      },
      "source": [
        "sentiment_detect(\"tum kharab ho\")"
      ],
      "execution_count": 117,
      "outputs": [
        {
          "output_type": "stream",
          "text": [
            "['bad']\n",
            "Tweet by user :  You are bad\n",
            "SGD classifier\n",
            "Tweet has sentiment:  negative\n",
            "******************************\n",
            "Stochastic Gradient Descent classifier\n",
            "Tweet has sentiment:  negative\n",
            "******************************\n",
            "Max Entropy classifier\n",
            "Tweet has sentiment:  negative\n",
            "******************************\n",
            "Stochastic Gradient Descent classifier\n",
            "Tweet has sentiment:  negative\n",
            "******************************\n",
            "Max Entropy classifier\n",
            "Tweet has sentiment:  negative\n",
            "******************************\n"
          ],
          "name": "stdout"
        }
      ]
    },
    {
      "cell_type": "code",
      "metadata": {
        "id": "Y5Gubtn-ByMm",
        "colab": {
          "base_uri": "https://localhost:8080/"
        },
        "outputId": "7b0ee513-5606-46a8-aa90-bd979ba39b4a"
      },
      "source": [
        "sentiment_detect(\"you are awesome\")"
      ],
      "execution_count": 118,
      "outputs": [
        {
          "output_type": "stream",
          "text": [
            "[]\n",
            "Tweet by user :   you are awesome\n",
            "SGD classifier\n",
            "Tweet has sentiment:  positive\n",
            "******************************\n",
            "Stochastic Gradient Descent classifier\n",
            "Tweet has sentiment:  positive\n",
            "******************************\n",
            "Max Entropy classifier\n",
            "Tweet has sentiment:  positive\n",
            "******************************\n",
            "Stochastic Gradient Descent classifier\n",
            "Tweet has sentiment:  positive\n",
            "******************************\n",
            "Max Entropy classifier\n",
            "Tweet has sentiment:  positive\n",
            "******************************\n"
          ],
          "name": "stdout"
        }
      ]
    },
    {
      "cell_type": "code",
      "metadata": {
        "id": "hmwscDu7ByMn",
        "colab": {
          "base_uri": "https://localhost:8080/"
        },
        "outputId": "d7d8c2cc-efab-4bb9-f46e-05987ca3a298"
      },
      "source": [
        "sentiment_detect(\"you are not accha\")"
      ],
      "execution_count": 119,
      "outputs": [
        {
          "output_type": "stream",
          "text": [
            "[]\n",
            "Tweet by user :   you are not good\n",
            "SGD classifier\n",
            "Tweet has sentiment:  positive\n",
            "******************************\n",
            "Stochastic Gradient Descent classifier\n",
            "Tweet has sentiment:  positive\n",
            "******************************\n",
            "Max Entropy classifier\n",
            "Tweet has sentiment:  positive\n",
            "******************************\n",
            "Stochastic Gradient Descent classifier\n",
            "Tweet has sentiment:  positive\n",
            "******************************\n",
            "Max Entropy classifier\n",
            "Tweet has sentiment:  positive\n",
            "******************************\n"
          ],
          "name": "stdout"
        }
      ]
    },
    {
      "cell_type": "code",
      "metadata": {
        "id": "cq9QDG86ByMn",
        "colab": {
          "base_uri": "https://localhost:8080/"
        },
        "outputId": "7e6af508-6f50-4604-f4f5-179694466da4"
      },
      "source": [
        "sentiment_detect(\"wo bahut hi ganda insaan hai\")"
      ],
      "execution_count": 120,
      "outputs": [
        {
          "output_type": "stream",
          "text": [
            "['dirty']\n",
            "Tweet by user :  He is a very dirty person\n",
            "SGD classifier\n",
            "Tweet has sentiment:  positive\n",
            "******************************\n",
            "Stochastic Gradient Descent classifier\n",
            "Tweet has sentiment:  positive\n",
            "******************************\n",
            "Max Entropy classifier\n",
            "Tweet has sentiment:  negative\n",
            "******************************\n",
            "Stochastic Gradient Descent classifier\n",
            "Tweet has sentiment:  positive\n",
            "******************************\n",
            "Max Entropy classifier\n",
            "Tweet has sentiment:  negative\n",
            "******************************\n",
            "['dirty']\n",
            "Tweet by user :  He is a very dirty person\n",
            "SGD classifier\n",
            "Tweet has sentiment:  positive\n",
            "******************************\n",
            "Stochastic Gradient Descent classifier\n",
            "Tweet has sentiment:  positive\n",
            "******************************\n",
            "Max Entropy classifier\n",
            "Tweet has sentiment:  negative\n",
            "******************************\n",
            "Stochastic Gradient Descent classifier\n",
            "Tweet has sentiment:  positive\n",
            "******************************\n",
            "Max Entropy classifier\n",
            "Tweet has sentiment:  negative\n",
            "******************************\n"
          ],
          "name": "stdout"
        }
      ]
    }
  ]
}